{
  "nbformat": 4,
  "nbformat_minor": 0,
  "metadata": {
    "colab": {
      "provenance": []
    },
    "kernelspec": {
      "name": "python3",
      "display_name": "Python 3"
    },
    "language_info": {
      "name": "python"
    }
  },
  "cells": [
    {
      "cell_type": "code",
      "execution_count": null,
      "metadata": {
        "colab": {
          "base_uri": "https://localhost:8080/"
        },
        "id": "5yX-9kCQHmy1",
        "outputId": "a8b4f831-6cef-4e65-c50b-4a8da4bb0f3f"
      },
      "outputs": [
        {
          "output_type": "stream",
          "name": "stdout",
          "text": [
            "Student Marks Data:\n",
            "       Name  Marks  Age\n",
            "0    Aarav     85   20\n",
            "1   Ishita     90   19\n",
            "2    Rohan     78   18\n",
            "3  Srushti     88   22\n",
            "4     Neha     92   17\n",
            "\n",
            "Average: 86.6\n",
            "Max: 92\n",
            "Min: 78\n",
            "Std Dev: 4.882622246293481\n",
            "\n",
            "Topper:\n",
            " Name     Neha\n",
            "Marks      92\n",
            "Age        17\n",
            "Name: 4, dtype: object\n"
          ]
        }
      ],
      "source": [
        "import pandas as pd\n",
        "import numpy as np\n",
        "\n",
        "# Step 1: Create dataset\n",
        "data = {\n",
        "    \"Name\": [\"Aarav\", \"Ishita\", \"Rohan\", \"Srushti\", \"Neha\"],\n",
        "    \"Marks\": [85, 90, 78, 88, 92],\n",
        "    \"Age\": [20, 19, 18, 22, 17] # Added Age column\n",
        "}\n",
        "\n",
        "df = pd.DataFrame(data)\n",
        "\n",
        "# Step 2: Convert Marks to NumPy array for stats\n",
        "marks = np.array(df[\"Marks\"])\n",
        "\n",
        "# Step 3: Calculate stats\n",
        "average = marks.mean()\n",
        "maximum = marks.max()\n",
        "minimum = marks.min()\n",
        "std_dev = marks.std()\n",
        "\n",
        "print(\"Student Marks Data:\\n\", df)\n",
        "print(\"\\nAverage:\", average)\n",
        "print(\"Max:\", maximum)\n",
        "print(\"Min:\", minimum)\n",
        "print(\"Std Dev:\", std_dev)\n",
        "\n",
        "# Step 4: Topper\n",
        "topper = df.loc[df[\"Marks\"].idxmax()]\n",
        "print(\"\\nTopper:\\n\", topper)"
      ]
    },
    {
      "cell_type": "code",
      "source": [
        "df[\"Age\"] = [17,18,19,18,17]\n",
        "df[\"Subject\"]=[\"science\",\"englsih\",\"maths\",\"sst\",\"hindi\"]\n",
        "print(df)\n"
      ],
      "metadata": {
        "colab": {
          "base_uri": "https://localhost:8080/"
        },
        "id": "hh8DIWjzIhBr",
        "outputId": "310885d7-b847-42fb-beb1-5de82b367e3e"
      },
      "execution_count": null,
      "outputs": [
        {
          "output_type": "stream",
          "name": "stdout",
          "text": [
            "      Name  Marks  Age  subject  Subject\n",
            "0    Aarav     85   17  science  science\n",
            "1   Ishita     90   18  englsih  englsih\n",
            "2    Rohan     78   19    maths    maths\n",
            "3  Srushti     88   18      sst      sst\n",
            "4     Neha     92   17    hindi    hindi\n"
          ]
        }
      ]
    },
    {
      "cell_type": "code",
      "source": [
        "Subject_avg = df.groupby(\"Subject\")[\"Marks\"].mean()\n",
        "print(Subject_avg)\n",
        "\n"
      ],
      "metadata": {
        "colab": {
          "base_uri": "https://localhost:8080/"
        },
        "id": "w5Knja1zKIqz",
        "outputId": "3069601f-fdfb-4090-f25b-e0e85c912dd8"
      },
      "execution_count": null,
      "outputs": [
        {
          "output_type": "stream",
          "name": "stdout",
          "text": [
            "Subject\n",
            "englsih    90.0\n",
            "hindi      92.0\n",
            "maths      78.0\n",
            "science    85.0\n",
            "sst        88.0\n",
            "Name: Marks, dtype: float64\n"
          ]
        }
      ]
    },
    {
      "cell_type": "code",
      "source": [
        "top_Subject = Subject_avg.idxmax()\n",
        "print(\"Subject with highest average:\", top_Subject)\n"
      ],
      "metadata": {
        "colab": {
          "base_uri": "https://localhost:8080/"
        },
        "id": "zdAcaGxkf26B",
        "outputId": "a74ad0a6-77f2-4dba-928a-f81802a15b04"
      },
      "execution_count": null,
      "outputs": [
        {
          "output_type": "stream",
          "name": "stdout",
          "text": [
            "Subject with highest average: hindi\n"
          ]
        }
      ]
    },
    {
      "cell_type": "code",
      "source": [
        "avg_marks = df[\"Marks\"].mean()\n",
        "print(\"Class Average:\", avg_marks)\n"
      ],
      "metadata": {
        "colab": {
          "base_uri": "https://localhost:8080/"
        },
        "id": "VIW3o7KMgke3",
        "outputId": "c9248864-3d82-46a5-9b13-7f4b65373179"
      },
      "execution_count": null,
      "outputs": [
        {
          "output_type": "stream",
          "name": "stdout",
          "text": [
            "Class Average: 86.6\n"
          ]
        }
      ]
    },
    {
      "cell_type": "code",
      "source": [
        "above_avg_students = df[df[\"Marks\"] > avg_marks]\n",
        "print(\"\\nStudents above average:\\n\", above_avg_students)\n"
      ],
      "metadata": {
        "colab": {
          "base_uri": "https://localhost:8080/"
        },
        "id": "JE9XubPxgsww",
        "outputId": "8261bf74-bd02-4f2c-e404-e114621f5202"
      },
      "execution_count": null,
      "outputs": [
        {
          "output_type": "stream",
          "name": "stdout",
          "text": [
            "\n",
            "Students above average:\n",
            "       Name  Marks  Age  subject  Subject\n",
            "1   Ishita     90   18  englsih  englsih\n",
            "3  Srushti     88   18      sst      sst\n",
            "4     Neha     92   17    hindi    hindi\n"
          ]
        }
      ]
    },
    {
      "cell_type": "code",
      "source": [],
      "metadata": {
        "id": "j9cP2UqjhdTy"
      },
      "execution_count": null,
      "outputs": []
    },
    {
      "cell_type": "code",
      "source": [
        "print(above_avg_students[\"Name\"])"
      ],
      "metadata": {
        "colab": {
          "base_uri": "https://localhost:8080/"
        },
        "id": "yE3c-qOogxwL",
        "outputId": "63ea977e-62d3-4573-d5b8-2a40f7c0ced5"
      },
      "execution_count": null,
      "outputs": [
        {
          "output_type": "stream",
          "name": "stdout",
          "text": [
            "1     Ishita\n",
            "3    Srushti\n",
            "4       Neha\n",
            "Name: Name, dtype: object\n"
          ]
        }
      ]
    },
    {
      "cell_type": "code",
      "source": [
        "ranked_df = df.sort_values(by=\"Marks\", ascending=False)\n",
        "print(ranked_df)\n",
        "\n"
      ],
      "metadata": {
        "colab": {
          "base_uri": "https://localhost:8080/"
        },
        "id": "RqD4mWvFheoD",
        "outputId": "bf8a4e6c-5d3c-467e-e62b-5f606621d66a"
      },
      "execution_count": null,
      "outputs": [
        {
          "output_type": "stream",
          "name": "stdout",
          "text": [
            "      Name  Marks  Age  subject  Subject\n",
            "4     Neha     92   17    hindi    hindi\n",
            "1   Ishita     90   18  englsih  englsih\n",
            "3  Srushti     88   18      sst      sst\n",
            "0    Aarav     85   17  science  science\n",
            "2    Rohan     78   19    maths    maths\n"
          ]
        }
      ]
    },
    {
      "cell_type": "code",
      "source": [
        "ranked_df[\"Rank\"] = range(1, len(ranked_df)+1)\n",
        "print(ranked_df)\n"
      ],
      "metadata": {
        "colab": {
          "base_uri": "https://localhost:8080/"
        },
        "id": "2JhqpU1Dhvza",
        "outputId": "015dce77-7ad5-4516-dc25-5356e15d89bc"
      },
      "execution_count": null,
      "outputs": [
        {
          "output_type": "stream",
          "name": "stdout",
          "text": [
            "      Name  Marks  Age  subject  Subject  Rank\n",
            "4     Neha     92   17    hindi    hindi     1\n",
            "1   Ishita     90   18  englsih  englsih     2\n",
            "3  Srushti     88   18      sst      sst     3\n",
            "0    Aarav     85   17  science  science     4\n",
            "2    Rohan     78   19    maths    maths     5\n"
          ]
        }
      ]
    },
    {
      "cell_type": "code",
      "source": [
        "import matplotlib.pyplot as plt\n",
        "\n",
        "# Bar chart\n",
        "plt.bar(df[\"Name\"], df[\"Marks\"], color='DARKblue')\n",
        "plt.title(\"Student Marks-SORTED\")\n",
        "plt.xlabel(\"Students\")\n",
        "plt.ylabel(\"Marks\")\n",
        "plt.ylim(0, 100)  # optional, to fix y-axis scale\n",
        "plt.show()\n",
        "sorted_df = df.sort_values(by=\"Marks\", ascending=False)\n"
      ],
      "metadata": {
        "colab": {
          "base_uri": "https://localhost:8080/",
          "height": 472
        },
        "id": "fxjjkRI7iGwe",
        "outputId": "b5f13076-3eb8-4264-9a24-364bd66d30f2"
      },
      "execution_count": null,
      "outputs": [
        {
          "output_type": "display_data",
          "data": {
            "text/plain": [
              "<Figure size 640x480 with 1 Axes>"
            ],
            "image/png": "[encoded data removed]"
          },
          "metadata": {}
        }
      ]
    },
    {
      "cell_type": "code",
      "source": [
        "sorted_df = df.sort_values(by=\"Marks\", ascending=False)\n",
        "colors = []\n",
        "for i in range(len(sorted_df)):\n",
        "    if i == 0:\n",
        "        colors.append(\"gold\")\n",
        "    elif i == 1:\n",
        "        colors.append(\"silver\")\n",
        "    elif i == 2:\n",
        "        colors.append(\"peru\")  # bronze-ish\n",
        "    else:\n",
        "        colors.append(\"skyblue\")\n",
        "import matplotlib.pyplot as plt\n",
        "\n",
        "plt.bar(sorted_df[\"Name\"], sorted_df[\"Marks\"], color=colors)\n",
        "plt.title(\"Student Marks - Colored by Rank\")\n",
        "plt.xlabel(\"Students\")\n",
        "plt.ylabel(\"Marks\")\n",
        "plt.ylim(0, 100)\n",
        "plt.show()\n"
      ],
      "metadata": {
        "colab": {
          "base_uri": "https://localhost:8080/",
          "height": 472
        },
        "id": "e22f8_LoizDw",
        "outputId": "dc783b39-f0b1-4233-dc2d-1fe30f43092b"
      },
      "execution_count": null,
      "outputs": [
        {
          "output_type": "display_data",
          "data": {
            "text/plain": [
              "<Figure size 640x480 with 1 Axes>"
            ],
            "image/png": "[encoded data removed]"
          },
          "metadata": {}
        }
      ]
    },
    {
      "cell_type": "code",
      "source": [
        "subject_avg = df.groupby(\"Subject\")[\"Marks\"].mean()\n",
        "print(subject_avg)\n"
      ],
      "metadata": {
        "colab": {
          "base_uri": "https://localhost:8080/"
        },
        "id": "aHnmjEEejV42",
        "outputId": "f6548730-a39e-49a0-f663-94e462fdccbb"
      },
      "execution_count": null,
      "outputs": [
        {
          "output_type": "stream",
          "name": "stdout",
          "text": [
            "Subject\n",
            "englsih    90.0\n",
            "hindi      92.0\n",
            "maths      78.0\n",
            "science    85.0\n",
            "sst        88.0\n",
            "Name: Marks, dtype: float64\n"
          ]
        }
      ]
    },
    {
      "cell_type": "code",
      "source": [
        "import matplotlib.pyplot as plt\n",
        "\n",
        "plt.bar(subject_avg.index, subject_avg.values, color='lightgreen')\n",
        "plt.title(\"Average Marks per Subject\")\n",
        "plt.xlabel(\"Subject\")\n",
        "plt.ylabel(\"Average Marks\")\n",
        "plt.ylim(0, 100)\n",
        "plt.show()\n"
      ],
      "metadata": {
        "colab": {
          "base_uri": "https://localhost:8080/",
          "height": 472
        },
        "id": "pM_1Ff7HjaH2",
        "outputId": "a6fbf991-54ae-471d-d995-0be4ce343e07"
      },
      "execution_count": null,
      "outputs": [
        {
          "output_type": "display_data",
          "data": {
            "text/plain": [
              "<Figure size 640x480 with 1 Axes>"
            ],
            "image/png": "[encoded data removed]"
          },
          "metadata": {}
        }
      ]
    }
  ]
}